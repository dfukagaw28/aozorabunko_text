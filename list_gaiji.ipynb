{
 "cells": [
  {
   "cell_type": "markdown",
   "metadata": {},
   "source": [
    "*   外字の変換手順\n",
    "    *   青空文庫テキストデータにおいて，外字は `※［＃「王＋甘」、第4水準2-80-65］` のように表現されている\n",
    "    *   まず `※※［＃` で始まる特殊なパターンを手動で変換\n",
    "    *   その後，正規表現 `※［＃[^［］]*?］` にマッチするパターンを自動的に変換"
   ]
  },
  {
   "cell_type": "code",
   "execution_count": 67,
   "metadata": {},
   "outputs": [],
   "source": [
    "from pathlib import Path\n",
    "import re\n",
    "\n",
    "from tqdm import tqdm"
   ]
  },
  {
   "cell_type": "code",
   "execution_count": null,
   "metadata": {},
   "outputs": [],
   "source": [
    "paths = list(Path('cards').glob('**/*.txt'))\n",
    "paths.sort()\n",
    "len(paths)"
   ]
  },
  {
   "cell_type": "code",
   "execution_count": 69,
   "metadata": {},
   "outputs": [],
   "source": [
    "def jis_to_char(men, ku, ten):\n",
    "    assert 1 <= men <= 2\n",
    "    assert 1 <= ku <= 94\n",
    "    assert 0 <= ten < 96\n",
    "    jis_code = 0x2020 + 0x100 * ku + ten\n",
    "\n",
    "    if men == 1:\n",
    "        jis_bytes = b'\\x1b$(Q' + bytes.fromhex(f'{jis_code:04x}') + b'\\x1b(B'\n",
    "    elif men == 2:\n",
    "        jis_bytes = b'\\x1b$(P' + bytes.fromhex(f'{jis_code:04x}') + b'\\x1b(B'\n",
    "\n",
    "    char = jis_bytes.decode('iso2022_jp_2004')\n",
    "\n",
    "    return char"
   ]
  },
  {
   "cell_type": "code",
   "execution_count": 73,
   "metadata": {},
   "outputs": [],
   "source": [
    "def get_gaiji_char(chuuki:str):\n",
    "    # 「第X水準X-X-XX」を検出する\n",
    "    match_obj = re.search(r'第(\\d|三|四)水準\\s*(\\d+)-(\\d+)-(\\d+)', chuuki)\n",
    "    if match_obj:\n",
    "        suijun, men, ku, ten = match_obj.groups()\n",
    "        men, ku, ten = map(int, [men, ku, ten])\n",
    "        char = jis_to_char(men, ku, ten)\n",
    "        return char\n",
    "\n",
    "    # 「U+XXXX」を検出する\n",
    "    match_obj = re.search(r'U\\+[0-9A-Fa-f]{4,6}', chuuki)\n",
    "    if match_obj:\n",
    "        match_str = match_obj.group()\n",
    "        codepoint_str = match_str[2:]\n",
    "        codepoint = int(codepoint_str, 16)\n",
    "        char = chr(codepoint)\n",
    "        return char\n",
    "\n",
    "    # 「X-XX-XX」を検出する（必ずしも JIS 面区点コードとは限らない）\n",
    "    match_obj = re.search(r'(\\d+)-(\\d+)-(\\d+)', chuuki)\n",
    "    if match_obj:\n",
    "        men, ku, ten = match_obj.groups()\n",
    "        men, ku, ten = map(int, [men, ku, ten])\n",
    "        try:\n",
    "            char = jis_to_char(men, ku, ten)\n",
    "        except Exception as e:\n",
    "            print(chuuki)\n",
    "            char = None\n",
    "        return char\n",
    "\n",
    "    return None"
   ]
  },
  {
   "cell_type": "code",
   "execution_count": null,
   "metadata": {},
   "outputs": [],
   "source": [
    "# 外字をリストアップする\n",
    "\n",
    "chuukis = set()\n",
    "\n",
    "for path in tqdm(paths):\n",
    "    with open(path) as file:\n",
    "        text = file.read()\n",
    "    for match_obj in re.finditer(r'※?［＃[^［］]*?］', text):\n",
    "        match_str = match_obj.group()\n",
    "        chuukis.add(match_str)\n",
    "\n",
    "print(len(chuukis))\n",
    "\n",
    "with open('gaiji_list.txt', 'w') as output_file:\n",
    "    for chuuki in chuukis:\n",
    "        char = get_gaiji_char(chuuki)\n",
    "        if char:\n",
    "            output_file.write(f'{char},{chuuki}\\n')\n",
    "\n",
    "!sort gaiji_list.txt > gaiji_list_sorted.txt"
   ]
  },
  {
   "cell_type": "code",
   "execution_count": null,
   "metadata": {},
   "outputs": [],
   "source": [
    "# 外字を変換する\n",
    "\n",
    "def replace_gaiji(match_obj):\n",
    "    chuuki = match_obj.group()\n",
    "    char = get_gaiji_char(chuuki)\n",
    "    if char:\n",
    "        return char\n",
    "    else:\n",
    "        return chuuki\n",
    "\n",
    "\n",
    "for path in tqdm(paths):\n",
    "    with open(path) as file:\n",
    "        text = file.read()\n",
    "    new_text, number_of_subs_made = re.subn(r'※［＃[^［］]*?］', replace_gaiji, text)\n",
    "    if number_of_subs_made > 0:\n",
    "        with open(path, 'w') as file:\n",
    "            file.write(new_text)"
   ]
  },
  {
   "cell_type": "code",
   "execution_count": null,
   "metadata": {},
   "outputs": [],
   "source": []
  }
 ],
 "metadata": {
  "kernelspec": {
   "display_name": ".venv",
   "language": "python",
   "name": "python3"
  },
  "language_info": {
   "codemirror_mode": {
    "name": "ipython",
    "version": 3
   },
   "file_extension": ".py",
   "mimetype": "text/x-python",
   "name": "python",
   "nbconvert_exporter": "python",
   "pygments_lexer": "ipython3",
   "version": "3.11.0rc1"
  }
 },
 "nbformat": 4,
 "nbformat_minor": 2
}

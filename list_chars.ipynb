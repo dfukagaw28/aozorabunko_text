{
 "cells": [
  {
   "cell_type": "code",
   "execution_count": 1,
   "metadata": {},
   "outputs": [],
   "source": [
    "from pathlib import Path\n",
    "from tqdm import tqdm"
   ]
  },
  {
   "cell_type": "code",
   "execution_count": 2,
   "metadata": {},
   "outputs": [],
   "source": [
    "def list_sjis_chars(byte_seq):\n",
    "    i = 0\n",
    "    while i < len(byte_seq):\n",
    "        byte1 = byte_seq[i]\n",
    "        if (0x00 <= byte1 <= 0x7F) or (0xA1 <= byte1 <= 0xDF):\n",
    "            yield byte_seq[i:i+1]\n",
    "            i += 1\n",
    "        elif (0x81 <= byte1 <= 0x9F) or (0xE0 <= byte1 <= 0xFC):\n",
    "            yield byte_seq[i:i+2]\n",
    "            i += 2\n",
    "        else:\n",
    "            raise ValueError(f'Invalid byte: {bytes([byte1]).hex()} at {i}')"
   ]
  },
  {
   "cell_type": "code",
   "execution_count": 3,
   "metadata": {},
   "outputs": [
    {
     "name": "stderr",
     "output_type": "stream",
     "text": [
      "100%|██████████| 17436/17436 [01:03<00:00, 275.96it/s] "
     ]
    },
    {
     "name": "stdout",
     "output_type": "stream",
     "text": [
      "CPU times: user 1min 2s, sys: 640 ms, total: 1min 3s\n",
      "Wall time: 1min 3s\n"
     ]
    },
    {
     "name": "stderr",
     "output_type": "stream",
     "text": [
      "\n"
     ]
    }
   ],
   "source": [
    "%%time\n",
    "\n",
    "paths = list(Path('cards').glob('**/*.txt'))\n",
    "paths.sort()\n",
    "\n",
    "sjis_chars = set()\n",
    "\n",
    "for path in tqdm(paths):\n",
    "    assert path.suffix == '.txt'\n",
    "\n",
    "    with open(path, 'rb') as file:\n",
    "        data = file.read()\n",
    "\n",
    "        try:\n",
    "            for char in list_sjis_chars(data):\n",
    "                sjis_chars.add(char)\n",
    "        except ValueError as e:\n",
    "            print(path)\n",
    "            raise e\n"
   ]
  },
  {
   "cell_type": "code",
   "execution_count": 4,
   "metadata": {},
   "outputs": [
    {
     "data": {
      "text/plain": [
       "6728"
      ]
     },
     "execution_count": 4,
     "metadata": {},
     "output_type": "execute_result"
    }
   ],
   "source": [
    "len(sjis_chars)"
   ]
  },
  {
   "cell_type": "code",
   "execution_count": 5,
   "metadata": {},
   "outputs": [
    {
     "name": "stdout",
     "output_type": "stream",
     "text": [
      "eb81\n"
     ]
    }
   ],
   "source": [
    "with open('sjis_chars.csv', 'w') as output_file:\n",
    "    for sjis_seq in sorted(sjis_chars):\n",
    "        try:\n",
    "            sjis_hex = sjis_seq.hex()\n",
    "            char = sjis_seq.decode('cp932')\n",
    "            utf8_hex = char.encode('utf8').hex()\n",
    "            output_file.write(f'{sjis_hex},{utf8_hex},{char}\\n')\n",
    "        except:\n",
    "            print(sjis_hex)"
   ]
  },
  {
   "cell_type": "code",
   "execution_count": null,
   "metadata": {},
   "outputs": [],
   "source": []
  }
 ],
 "metadata": {
  "kernelspec": {
   "display_name": ".venv",
   "language": "python",
   "name": "python3"
  },
  "language_info": {
   "codemirror_mode": {
    "name": "ipython",
    "version": 3
   },
   "file_extension": ".py",
   "mimetype": "text/x-python",
   "name": "python",
   "nbconvert_exporter": "python",
   "pygments_lexer": "ipython3",
   "version": "3.11.0rc1"
  }
 },
 "nbformat": 4,
 "nbformat_minor": 2
}

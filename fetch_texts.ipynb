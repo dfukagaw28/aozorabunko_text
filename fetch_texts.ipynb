{
 "cells": [
  {
   "cell_type": "code",
   "execution_count": null,
   "metadata": {},
   "outputs": [],
   "source": [
    "from pathlib import Path\n",
    "import pandas as pd\n",
    "\n",
    "# Fetch zip file list\n",
    "url = 'https://github.com/dfukagaw28/ColabNotebooks/raw/refs/heads/main/aozora/filelist.csv'\n",
    "df = pd.read_csv(url)\n",
    "\n",
    "# For each zip file\n",
    "for index, row in df.iterrows():\n",
    "    # Skip if it exists\n",
    "    path = row['path']\n",
    "    assert path.endswith('.zip')\n",
    "    path = Path(path[:-4])\n",
    "    if path.exists():\n",
    "        continue\n",
    "\n",
    "    print(path)\n",
    "\n",
    "    # Create the directory\n",
    "    path.mkdir(parents=True)\n",
    "\n",
    "    # Fetch the zip file\n",
    "    url = f'https://github.com/aozorabunko/aozorabunko/raw/refs/heads/master/{path}.zip'\n",
    "    output_zip_file = path / f'{path.name}.zip'\n",
    "    !curl -sRL {url} -o {output_zip_file}\n",
    "\n",
    "    # Extract the text file\n",
    "    text_filename = row['text_filename']\n",
    "    output_text_file = path / f'{path.name}.txt'\n",
    "    !unzip -pq {output_zip_file} {text_filename} > {output_text_file}\n",
    "\n",
    "    # Clean up\n",
    "    !rm -f {output_zip_file}"
   ]
  }
 ],
 "metadata": {
  "kernelspec": {
   "display_name": ".venv",
   "language": "python",
   "name": "python3"
  },
  "language_info": {
   "name": "python",
   "version": "3.11.0"
  }
 },
 "nbformat": 4,
 "nbformat_minor": 2
}

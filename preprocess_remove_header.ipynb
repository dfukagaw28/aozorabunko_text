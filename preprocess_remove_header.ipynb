{
 "cells": [
  {
   "cell_type": "code",
   "execution_count": null,
   "metadata": {},
   "outputs": [],
   "source": [
    "from pathlib import Path\n",
    "import re\n",
    "\n",
    "import pandas as pd\n",
    "from tqdm import tqdm"
   ]
  },
  {
   "cell_type": "code",
   "execution_count": null,
   "metadata": {},
   "outputs": [],
   "source": [
    "paths = list(Path('cards').glob('**/*.txt'))\n",
    "paths = [str(path) for path in paths]\n",
    "paths.sort()\n",
    "len(paths)"
   ]
  },
  {
   "cell_type": "code",
   "execution_count": null,
   "metadata": {},
   "outputs": [],
   "source": [
    "df = pd.DataFrame({'path': paths})\n",
    "df"
   ]
  },
  {
   "cell_type": "code",
   "execution_count": null,
   "metadata": {},
   "outputs": [],
   "source": [
    "def remove_header(text):\n",
    "    match_obj = re.match(r'.{0,1000}?^----------.{0,1000}?テキスト中に現れる記号について.*?^----------.{0,1000}?\\n+', text, flags=re.MULTILINE|re.DOTALL)\n",
    "    if match_obj:\n",
    "        return text[match_obj.end():]\n",
    "\n",
    "    match_obj = re.match(r'.{0,1000}?^----------*\\n.{0,1000}?^----------*\\n+', text, flags=re.MULTILINE|re.DOTALL)\n",
    "    if match_obj:\n",
    "        return text[match_obj.end():]\n",
    "\n",
    "    match_obj = re.match(r'.*?\\n{2,}', text, flags=re.MULTILINE|re.DOTALL)\n",
    "    if match_obj:\n",
    "        return text[match_obj.end():]\n",
    "\n",
    "    return None\n",
    "\n",
    "\n",
    "for path in tqdm(paths):\n",
    "    text = open(path).read()\n",
    "\n",
    "    new_text = remove_header(text)\n",
    "\n",
    "    assert new_text\n",
    "\n",
    "    with open(path, 'w') as file:\n",
    "        file.write(new_text)\n"
   ]
  }
 ],
 "metadata": {
  "kernelspec": {
   "display_name": ".venv",
   "language": "python",
   "name": "python3"
  },
  "language_info": {
   "name": "python",
   "version": "3.11.0"
  }
 },
 "nbformat": 4,
 "nbformat_minor": 2
}
